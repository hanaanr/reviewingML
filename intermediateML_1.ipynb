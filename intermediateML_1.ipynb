{
 "cells": [
  {
   "cell_type": "markdown",
   "id": "f22b6ca1-2f75-4b4e-a50c-9c091e347a2c",
   "metadata": {},
   "source": [
    "### Intermediate ML Course - Kaggle\n",
    "#### Study Notes - Hanaan"
   ]
  },
  {
   "cell_type": "code",
   "execution_count": 1,
   "id": "7159d4cf-9e02-42c6-8d3f-ff63d82dab59",
   "metadata": {},
   "outputs": [],
   "source": [
    "import pandas as pd\n",
    "from sklearn.model_selection import train_test_split\n",
    "#from sklearn.tree import DecisionTreeRegressor\n",
    "from sklearn.ensemble import RandomForestRegressor\n",
    "from sklearn.metrics import mean_absolute_error"
   ]
  },
  {
   "cell_type": "code",
   "execution_count": 2,
   "id": "354dd4f2-52a9-4d0f-acdd-1e0e6c6d69ed",
   "metadata": {},
   "outputs": [],
   "source": [
    "train_data = pd.read_csv('train.csv', index_col = 'Id')\n",
    "test_data = pd.read_csv('test.csv', index_col = 'Id')"
   ]
  },
  {
   "cell_type": "code",
   "execution_count": 3,
   "id": "173899ba-f8b8-48ff-aafe-49c5b799c9d7",
   "metadata": {},
   "outputs": [],
   "source": [
    "y = train_data.SalePrice\n",
    "\n",
    "features = ['LotArea', 'YearBuilt', '1stFlrSF', '2ndFlrSF', 'FullBath', 'BedroomAbvGr', 'TotRmsAbvGrd']\n",
    "X = train_data[features]\n",
    "\n",
    "X_test = test_data[features]"
   ]
  },
  {
   "cell_type": "code",
   "execution_count": 4,
   "id": "b48dc6e4-e7b7-4156-b6a4-afaff1b644b2",
   "metadata": {},
   "outputs": [],
   "source": [
    "X_train, X_valid, y_train, y_valid = train_test_split(X, y, train_size = 0.8, test_size = 0.2, random_state=0)"
   ]
  },
  {
   "cell_type": "code",
   "execution_count": 5,
   "id": "cc1614c6-e763-4166-a27b-3b1ba738af9c",
   "metadata": {},
   "outputs": [
    {
     "data": {
      "text/html": [
       "<div>\n",
       "<style scoped>\n",
       "    .dataframe tbody tr th:only-of-type {\n",
       "        vertical-align: middle;\n",
       "    }\n",
       "\n",
       "    .dataframe tbody tr th {\n",
       "        vertical-align: top;\n",
       "    }\n",
       "\n",
       "    .dataframe thead th {\n",
       "        text-align: right;\n",
       "    }\n",
       "</style>\n",
       "<table border=\"1\" class=\"dataframe\">\n",
       "  <thead>\n",
       "    <tr style=\"text-align: right;\">\n",
       "      <th></th>\n",
       "      <th>LotArea</th>\n",
       "      <th>YearBuilt</th>\n",
       "      <th>1stFlrSF</th>\n",
       "      <th>2ndFlrSF</th>\n",
       "      <th>FullBath</th>\n",
       "      <th>BedroomAbvGr</th>\n",
       "      <th>TotRmsAbvGrd</th>\n",
       "    </tr>\n",
       "    <tr>\n",
       "      <th>Id</th>\n",
       "      <th></th>\n",
       "      <th></th>\n",
       "      <th></th>\n",
       "      <th></th>\n",
       "      <th></th>\n",
       "      <th></th>\n",
       "      <th></th>\n",
       "    </tr>\n",
       "  </thead>\n",
       "  <tbody>\n",
       "    <tr>\n",
       "      <th>619</th>\n",
       "      <td>11694</td>\n",
       "      <td>2007</td>\n",
       "      <td>1828</td>\n",
       "      <td>0</td>\n",
       "      <td>2</td>\n",
       "      <td>3</td>\n",
       "      <td>9</td>\n",
       "    </tr>\n",
       "    <tr>\n",
       "      <th>871</th>\n",
       "      <td>6600</td>\n",
       "      <td>1962</td>\n",
       "      <td>894</td>\n",
       "      <td>0</td>\n",
       "      <td>1</td>\n",
       "      <td>2</td>\n",
       "      <td>5</td>\n",
       "    </tr>\n",
       "    <tr>\n",
       "      <th>93</th>\n",
       "      <td>13360</td>\n",
       "      <td>1921</td>\n",
       "      <td>964</td>\n",
       "      <td>0</td>\n",
       "      <td>1</td>\n",
       "      <td>2</td>\n",
       "      <td>5</td>\n",
       "    </tr>\n",
       "    <tr>\n",
       "      <th>818</th>\n",
       "      <td>13265</td>\n",
       "      <td>2002</td>\n",
       "      <td>1689</td>\n",
       "      <td>0</td>\n",
       "      <td>2</td>\n",
       "      <td>3</td>\n",
       "      <td>7</td>\n",
       "    </tr>\n",
       "    <tr>\n",
       "      <th>303</th>\n",
       "      <td>13704</td>\n",
       "      <td>2001</td>\n",
       "      <td>1541</td>\n",
       "      <td>0</td>\n",
       "      <td>2</td>\n",
       "      <td>3</td>\n",
       "      <td>6</td>\n",
       "    </tr>\n",
       "  </tbody>\n",
       "</table>\n",
       "</div>"
      ],
      "text/plain": [
       "     LotArea  YearBuilt  1stFlrSF  2ndFlrSF  FullBath  BedroomAbvGr  \\\n",
       "Id                                                                    \n",
       "619    11694       2007      1828         0         2             3   \n",
       "871     6600       1962       894         0         1             2   \n",
       "93     13360       1921       964         0         1             2   \n",
       "818    13265       2002      1689         0         2             3   \n",
       "303    13704       2001      1541         0         2             3   \n",
       "\n",
       "     TotRmsAbvGrd  \n",
       "Id                 \n",
       "619             9  \n",
       "871             5  \n",
       "93              5  \n",
       "818             7  \n",
       "303             6  "
      ]
     },
     "execution_count": 5,
     "metadata": {},
     "output_type": "execute_result"
    }
   ],
   "source": [
    "X_train.head()"
   ]
  },
  {
   "cell_type": "markdown",
   "id": "8ccb2f7e-9d75-41b4-8bfe-f83cbb335af7",
   "metadata": {},
   "source": [
    "### Evaluate several RF models to find the optimal parameters"
   ]
  },
  {
   "cell_type": "code",
   "execution_count": 38,
   "id": "05f4fac7-9f9d-4382-9562-e2649f1b7121",
   "metadata": {},
   "outputs": [],
   "source": [
    "model1 = RandomForestRegressor(n_estimators = 50, random_state=0)\n",
    "model2 = RandomForestRegressor(n_estimators = 100, random_state=0)\n",
    "model3 = RandomForestRegressor(n_estimators = 100, criterion=\"poisson\", random_state=0)\n",
    "model4 = RandomForestRegressor(n_estimators = 50, min_samples_split=20, random_state=0)\n",
    "model5 = RandomForestRegressor(n_estimators = 78, max_depth = 7, criterion=\"poisson\",random_state=0)\n",
    "models = [model1, model2, model3, model4, model5]"
   ]
  },
  {
   "cell_type": "code",
   "execution_count": 39,
   "id": "b561b2a2-a591-4705-8cf1-a5cc7f885d29",
   "metadata": {},
   "outputs": [],
   "source": [
    "def get_mae(model, X_train, X_valid, y_train, y_valid):\n",
    "    model.fit(X_train, y_train)\n",
    "    y_pred = model.predict(X_valid)\n",
    "    mae = mean_absolute_error(y_pred, y_valid)\n",
    "    return(mae)"
   ]
  },
  {
   "cell_type": "code",
   "execution_count": 40,
   "id": "e7bbe19a-0e2b-467a-9ca3-837f962dccb2",
   "metadata": {},
   "outputs": [
    {
     "name": "stdout",
     "output_type": "stream",
     "text": [
      "24015.492818003917\n",
      "23740.979228636657\n",
      "23734.530028538815\n",
      "24051.209439433995\n",
      "23619.786747467733\n"
     ]
    }
   ],
   "source": [
    "for i in models:\n",
    "    mae = get_mae(i, X_train, X_valid, y_train, y_valid)\n",
    "    print(mae)"
   ]
  },
  {
   "cell_type": "markdown",
   "id": "faf8d195-28da-4951-bfde-36697cc89430",
   "metadata": {},
   "source": [
    "### Which model is the best model? -- Model5"
   ]
  },
  {
   "cell_type": "markdown",
   "id": "623764cf-55c0-4015-89f3-bb8d5334d474",
   "metadata": {},
   "source": [
    "### Now that you have evaluated several models, time to go through the modeling process of your intended model and make predicions. "
   ]
  },
  {
   "cell_type": "code",
   "execution_count": 41,
   "id": "f5320807-80c7-4a6b-bfe2-9f6fa9fea541",
   "metadata": {},
   "outputs": [],
   "source": [
    "my_model = RandomForestRegressor(n_estimators = 78, max_depth = 7, criterion=\"poisson\", random_state = 0)\n",
    "my_model.fit(X_train, y_train)\n",
    "y_pred_test = my_model.predict(X_test)"
   ]
  },
  {
   "cell_type": "code",
   "execution_count": 42,
   "id": "ed7c1cfc-7c75-4e86-8307-9130d0c60bbe",
   "metadata": {},
   "outputs": [],
   "source": [
    "output = pd.DataFrame({'Id': X_test.index,\n",
    "                       'SalePrice': y_pred_test})\n",
    "output.to_csv('submission.csv', index=False)"
   ]
  }
 ],
 "metadata": {
  "kernelspec": {
   "display_name": "Python 3 (ipykernel)",
   "language": "python",
   "name": "python3"
  },
  "language_info": {
   "codemirror_mode": {
    "name": "ipython",
    "version": 3
   },
   "file_extension": ".py",
   "mimetype": "text/x-python",
   "name": "python",
   "nbconvert_exporter": "python",
   "pygments_lexer": "ipython3",
   "version": "3.11.3"
  }
 },
 "nbformat": 4,
 "nbformat_minor": 5
}
